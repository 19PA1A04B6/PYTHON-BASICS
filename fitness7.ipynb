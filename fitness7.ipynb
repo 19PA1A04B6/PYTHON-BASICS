{
  "nbformat": 4,
  "nbformat_minor": 0,
  "metadata": {
    "colab": {
      "name": "fitness7.ipynb",
      "provenance": [],
      "authorship_tag": "ABX9TyNXK8D6FePa0JlHglfvbZe8",
      "include_colab_link": true
    },
    "kernelspec": {
      "name": "python3",
      "display_name": "Python 3"
    }
  },
  "cells": [
    {
      "cell_type": "markdown",
      "metadata": {
        "id": "view-in-github",
        "colab_type": "text"
      },
      "source": [
        "<a href=\"https://colab.research.google.com/github/19PA1A04B6/PYTHON-BASICS/blob/master/fitness7.ipynb\" target=\"_parent\"><img src=\"https://colab.research.google.com/assets/colab-badge.svg\" alt=\"Open In Colab\"/></a>"
      ]
    },
    {
      "cell_type": "code",
      "metadata": {
        "id": "bKqvIw8c44mA",
        "colab_type": "code",
        "colab": {}
      },
      "source": [
        "import pandas as pd \n",
        "import numpy as np \n",
        "from sklearn.model_selection import train_test_split \n",
        "from sklearn.linear_model import LinearRegression \n",
        "import matplotlib.pyplot as plt \n"
      ],
      "execution_count": 0,
      "outputs": []
    },
    {
      "cell_type": "code",
      "metadata": {
        "id": "pcS__HOd5Esa",
        "colab_type": "code",
        "colab": {
          "base_uri": "https://localhost:8080/",
          "height": 204
        },
        "outputId": "723dffe9-dc50-4abf-9293-42caf052b207"
      },
      "source": [
        "ft=pd.read_csv(\"/content/fitness trends.csv\")\n",
        "ft.head()"
      ],
      "execution_count": 13,
      "outputs": [
        {
          "output_type": "execute_result",
          "data": {
            "text/html": [
              "<div>\n",
              "<style scoped>\n",
              "    .dataframe tbody tr th:only-of-type {\n",
              "        vertical-align: middle;\n",
              "    }\n",
              "\n",
              "    .dataframe tbody tr th {\n",
              "        vertical-align: top;\n",
              "    }\n",
              "\n",
              "    .dataframe thead th {\n",
              "        text-align: right;\n",
              "    }\n",
              "</style>\n",
              "<table border=\"1\" class=\"dataframe\">\n",
              "  <thead>\n",
              "    <tr style=\"text-align: right;\">\n",
              "      <th></th>\n",
              "      <th>date</th>\n",
              "      <th>step_count</th>\n",
              "      <th>mood</th>\n",
              "      <th>calories_burned</th>\n",
              "      <th>hours_of_sleep</th>\n",
              "      <th>bool_of_active</th>\n",
              "      <th>weight_kg</th>\n",
              "    </tr>\n",
              "  </thead>\n",
              "  <tbody>\n",
              "    <tr>\n",
              "      <th>0</th>\n",
              "      <td>2017-10-06</td>\n",
              "      <td>5464</td>\n",
              "      <td>200</td>\n",
              "      <td>181</td>\n",
              "      <td>5</td>\n",
              "      <td>0</td>\n",
              "      <td>66</td>\n",
              "    </tr>\n",
              "    <tr>\n",
              "      <th>1</th>\n",
              "      <td>2017-10-07</td>\n",
              "      <td>6041</td>\n",
              "      <td>100</td>\n",
              "      <td>197</td>\n",
              "      <td>8</td>\n",
              "      <td>0</td>\n",
              "      <td>66</td>\n",
              "    </tr>\n",
              "    <tr>\n",
              "      <th>2</th>\n",
              "      <td>2017-10-08</td>\n",
              "      <td>25</td>\n",
              "      <td>100</td>\n",
              "      <td>0</td>\n",
              "      <td>5</td>\n",
              "      <td>0</td>\n",
              "      <td>66</td>\n",
              "    </tr>\n",
              "    <tr>\n",
              "      <th>3</th>\n",
              "      <td>2017-10-09</td>\n",
              "      <td>5461</td>\n",
              "      <td>100</td>\n",
              "      <td>174</td>\n",
              "      <td>4</td>\n",
              "      <td>0</td>\n",
              "      <td>66</td>\n",
              "    </tr>\n",
              "    <tr>\n",
              "      <th>4</th>\n",
              "      <td>2017-10-10</td>\n",
              "      <td>6915</td>\n",
              "      <td>200</td>\n",
              "      <td>223</td>\n",
              "      <td>5</td>\n",
              "      <td>500</td>\n",
              "      <td>66</td>\n",
              "    </tr>\n",
              "  </tbody>\n",
              "</table>\n",
              "</div>"
            ],
            "text/plain": [
              "         date  step_count  mood  ...  hours_of_sleep  bool_of_active  weight_kg\n",
              "0  2017-10-06        5464   200  ...               5               0         66\n",
              "1  2017-10-07        6041   100  ...               8               0         66\n",
              "2  2017-10-08          25   100  ...               5               0         66\n",
              "3  2017-10-09        5461   100  ...               4               0         66\n",
              "4  2017-10-10        6915   200  ...               5             500         66\n",
              "\n",
              "[5 rows x 7 columns]"
            ]
          },
          "metadata": {
            "tags": []
          },
          "execution_count": 13
        }
      ]
    },
    {
      "cell_type": "code",
      "metadata": {
        "id": "4nHRtMd26mbG",
        "colab_type": "code",
        "colab": {
          "base_uri": "https://localhost:8080/",
          "height": 153
        },
        "outputId": "cfa02e64-7fde-4c10-95fb-5846a85780a5"
      },
      "source": [
        "ft.isna().any()\n"
      ],
      "execution_count": 15,
      "outputs": [
        {
          "output_type": "execute_result",
          "data": {
            "text/plain": [
              "date               False\n",
              "step_count         False\n",
              "mood               False\n",
              "calories_burned    False\n",
              "hours_of_sleep     False\n",
              "bool_of_active     False\n",
              "weight_kg          False\n",
              "dtype: bool"
            ]
          },
          "metadata": {
            "tags": []
          },
          "execution_count": 15
        }
      ]
    },
    {
      "cell_type": "code",
      "metadata": {
        "id": "t-1DWtYB61jL",
        "colab_type": "code",
        "colab": {}
      },
      "source": [
        "ft=ft.fillna(method=\"ffill\")"
      ],
      "execution_count": 0,
      "outputs": []
    },
    {
      "cell_type": "code",
      "metadata": {
        "id": "fgdeAj7r6-2R",
        "colab_type": "code",
        "colab": {
          "base_uri": "https://localhost:8080/",
          "height": 153
        },
        "outputId": "3700920c-6695-4be5-9c38-45c7d648e99e"
      },
      "source": [
        "ft.isna().any()"
      ],
      "execution_count": 18,
      "outputs": [
        {
          "output_type": "execute_result",
          "data": {
            "text/plain": [
              "date               False\n",
              "step_count         False\n",
              "mood               False\n",
              "calories_burned    False\n",
              "hours_of_sleep     False\n",
              "bool_of_active     False\n",
              "weight_kg          False\n",
              "dtype: bool"
            ]
          },
          "metadata": {
            "tags": []
          },
          "execution_count": 18
        }
      ]
    },
    {
      "cell_type": "code",
      "metadata": {
        "id": "TZFdvwA_7TXh",
        "colab_type": "code",
        "colab": {
          "base_uri": "https://localhost:8080/",
          "height": 297
        },
        "outputId": "dc32925e-fa9a-4706-f5c9-5a0c425e636c"
      },
      "source": [
        "ft.describe()"
      ],
      "execution_count": 33,
      "outputs": [
        {
          "output_type": "execute_result",
          "data": {
            "text/html": [
              "<div>\n",
              "<style scoped>\n",
              "    .dataframe tbody tr th:only-of-type {\n",
              "        vertical-align: middle;\n",
              "    }\n",
              "\n",
              "    .dataframe tbody tr th {\n",
              "        vertical-align: top;\n",
              "    }\n",
              "\n",
              "    .dataframe thead th {\n",
              "        text-align: right;\n",
              "    }\n",
              "</style>\n",
              "<table border=\"1\" class=\"dataframe\">\n",
              "  <thead>\n",
              "    <tr style=\"text-align: right;\">\n",
              "      <th></th>\n",
              "      <th>step_count</th>\n",
              "      <th>mood</th>\n",
              "      <th>calories_burned</th>\n",
              "      <th>hours_of_sleep</th>\n",
              "      <th>bool_of_active</th>\n",
              "      <th>weight_kg</th>\n",
              "    </tr>\n",
              "  </thead>\n",
              "  <tbody>\n",
              "    <tr>\n",
              "      <th>count</th>\n",
              "      <td>96.000000</td>\n",
              "      <td>96.000000</td>\n",
              "      <td>96.000000</td>\n",
              "      <td>96.00000</td>\n",
              "      <td>96.000000</td>\n",
              "      <td>96.000000</td>\n",
              "    </tr>\n",
              "    <tr>\n",
              "      <th>mean</th>\n",
              "      <td>2935.937500</td>\n",
              "      <td>211.458333</td>\n",
              "      <td>93.447917</td>\n",
              "      <td>5.21875</td>\n",
              "      <td>218.750000</td>\n",
              "      <td>64.281250</td>\n",
              "    </tr>\n",
              "    <tr>\n",
              "      <th>std</th>\n",
              "      <td>2143.384573</td>\n",
              "      <td>84.442184</td>\n",
              "      <td>71.601951</td>\n",
              "      <td>1.51625</td>\n",
              "      <td>249.341237</td>\n",
              "      <td>0.627495</td>\n",
              "    </tr>\n",
              "    <tr>\n",
              "      <th>min</th>\n",
              "      <td>25.000000</td>\n",
              "      <td>100.000000</td>\n",
              "      <td>0.000000</td>\n",
              "      <td>2.00000</td>\n",
              "      <td>0.000000</td>\n",
              "      <td>64.000000</td>\n",
              "    </tr>\n",
              "    <tr>\n",
              "      <th>25%</th>\n",
              "      <td>741.000000</td>\n",
              "      <td>100.000000</td>\n",
              "      <td>21.750000</td>\n",
              "      <td>4.00000</td>\n",
              "      <td>0.000000</td>\n",
              "      <td>64.000000</td>\n",
              "    </tr>\n",
              "    <tr>\n",
              "      <th>50%</th>\n",
              "      <td>2987.500000</td>\n",
              "      <td>200.000000</td>\n",
              "      <td>96.000000</td>\n",
              "      <td>5.00000</td>\n",
              "      <td>0.000000</td>\n",
              "      <td>64.000000</td>\n",
              "    </tr>\n",
              "    <tr>\n",
              "      <th>75%</th>\n",
              "      <td>4546.250000</td>\n",
              "      <td>300.000000</td>\n",
              "      <td>149.250000</td>\n",
              "      <td>6.00000</td>\n",
              "      <td>500.000000</td>\n",
              "      <td>64.000000</td>\n",
              "    </tr>\n",
              "    <tr>\n",
              "      <th>max</th>\n",
              "      <td>7422.000000</td>\n",
              "      <td>300.000000</td>\n",
              "      <td>243.000000</td>\n",
              "      <td>9.00000</td>\n",
              "      <td>500.000000</td>\n",
              "      <td>66.000000</td>\n",
              "    </tr>\n",
              "  </tbody>\n",
              "</table>\n",
              "</div>"
            ],
            "text/plain": [
              "        step_count        mood  ...  bool_of_active  weight_kg\n",
              "count    96.000000   96.000000  ...       96.000000  96.000000\n",
              "mean   2935.937500  211.458333  ...      218.750000  64.281250\n",
              "std    2143.384573   84.442184  ...      249.341237   0.627495\n",
              "min      25.000000  100.000000  ...        0.000000  64.000000\n",
              "25%     741.000000  100.000000  ...        0.000000  64.000000\n",
              "50%    2987.500000  200.000000  ...        0.000000  64.000000\n",
              "75%    4546.250000  300.000000  ...      500.000000  64.000000\n",
              "max    7422.000000  300.000000  ...      500.000000  66.000000\n",
              "\n",
              "[8 rows x 6 columns]"
            ]
          },
          "metadata": {
            "tags": []
          },
          "execution_count": 33
        }
      ]
    },
    {
      "cell_type": "code",
      "metadata": {
        "id": "FjMMQHCZ_kfO",
        "colab_type": "code",
        "colab": {
          "base_uri": "https://localhost:8080/",
          "height": 297
        },
        "outputId": "be01d53e-cf85-4ae8-88a4-1fe5696d80c9"
      },
      "source": [
        "ft.plot(x=\"step_count\",y=\"mood\")"
      ],
      "execution_count": 34,
      "outputs": [
        {
          "output_type": "execute_result",
          "data": {
            "text/plain": [
              "<matplotlib.axes._subplots.AxesSubplot at 0x7fe40b3c0128>"
            ]
          },
          "metadata": {
            "tags": []
          },
          "execution_count": 34
        },
        {
          "output_type": "display_data",
          "data": {
            "image/png": "[encoded data removed]",
            "text/plain": [
              "<Figure size 432x288 with 1 Axes>"
            ]
          },
          "metadata": {
            "tags": []
          }
        }
      ]
    },
    {
      "cell_type": "code",
      "metadata": {
        "id": "ev9glgpA_9mO",
        "colab_type": "code",
        "colab": {}
      },
      "source": [
        "x=ft['step_count'].values.reshape(-1,1)\n",
        "y=ft['mood'].values.reshape(-1,1)"
      ],
      "execution_count": 0,
      "outputs": []
    },
    {
      "cell_type": "code",
      "metadata": {
        "id": "rKYFBs_CAVBw",
        "colab_type": "code",
        "colab": {}
      },
      "source": [
        "X_train,X_test,Y_train,Y_test=train_test_split(x,y,test_size=0.2)"
      ],
      "execution_count": 0,
      "outputs": []
    },
    {
      "cell_type": "code",
      "metadata": {
        "id": "K6WzZTKTAZTL",
        "colab_type": "code",
        "colab": {
          "base_uri": "https://localhost:8080/",
          "height": 34
        },
        "outputId": "481fb118-2aee-4b16-c5a1-e9c8e7f5549b"
      },
      "source": [
        "model=LinearRegression()\n",
        "model.fit(X_train,Y_train)"
      ],
      "execution_count": 38,
      "outputs": [
        {
          "output_type": "execute_result",
          "data": {
            "text/plain": [
              "LinearRegression(copy_X=True, fit_intercept=True, n_jobs=None, normalize=False)"
            ]
          },
          "metadata": {
            "tags": []
          },
          "execution_count": 38
        }
      ]
    },
    {
      "cell_type": "code",
      "metadata": {
        "id": "9lf3XVxsAmkN",
        "colab_type": "code",
        "colab": {
          "base_uri": "https://localhost:8080/",
          "height": 34
        },
        "outputId": "f7146b66-2853-44d0-f11c-bda93bbe5620"
      },
      "source": [
        "print(model.intercept_) "
      ],
      "execution_count": 39,
      "outputs": [
        {
          "output_type": "stream",
          "text": [
            "[171.76553416]\n"
          ],
          "name": "stdout"
        }
      ]
    },
    {
      "cell_type": "code",
      "metadata": {
        "id": "P6npvvtDAogi",
        "colab_type": "code",
        "colab": {
          "base_uri": "https://localhost:8080/",
          "height": 34
        },
        "outputId": "a603daee-8916-478d-cd2b-99cf9212e640"
      },
      "source": [
        "print(model.coef_)"
      ],
      "execution_count": 40,
      "outputs": [
        {
          "output_type": "stream",
          "text": [
            "[[0.01196981]]\n"
          ],
          "name": "stdout"
        }
      ]
    },
    {
      "cell_type": "code",
      "metadata": {
        "id": "UU9V9BVDA_fN",
        "colab_type": "code",
        "colab": {
          "base_uri": "https://localhost:8080/",
          "height": 357
        },
        "outputId": "35bc778f-4611-4a21-b893-bb91d5f01023"
      },
      "source": [
        "predicted_mood=model.predict(X_test) \n",
        "predicted_mood"
      ],
      "execution_count": 42,
      "outputs": [
        {
          "output_type": "execute_result",
          "data": {
            "text/plain": [
              "array([[197.22532611],\n",
              "       [214.55761513],\n",
              "       [175.7155724 ],\n",
              "       [256.77514507],\n",
              "       [238.04238795],\n",
              "       [236.11524808],\n",
              "       [233.94871195],\n",
              "       [227.86804702],\n",
              "       [205.54434604],\n",
              "       [198.75746215],\n",
              "       [173.93207029],\n",
              "       [188.77463823],\n",
              "       [183.67549795],\n",
              "       [202.87507778],\n",
              "       [244.07517363],\n",
              "       [178.21726329],\n",
              "       [198.20685076],\n",
              "       [190.67783847],\n",
              "       [237.16859161],\n",
              "       [181.03016931]])"
            ]
          },
          "metadata": {
            "tags": []
          },
          "execution_count": 42
        }
      ]
    },
    {
      "cell_type": "code",
      "metadata": {
        "id": "HDxHytv2BESh",
        "colab_type": "code",
        "colab": {
          "base_uri": "https://localhost:8080/",
          "height": 282
        },
        "outputId": "645989cf-26e1-4399-ca21-e2f3d3093393"
      },
      "source": [
        "plt.scatter(X_test,Y_test,color='red')\n",
        "plt.plot(X_test,predicted_mood)"
      ],
      "execution_count": 43,
      "outputs": [
        {
          "output_type": "execute_result",
          "data": {
            "text/plain": [
              "[<matplotlib.lines.Line2D at 0x7fe406d93748>]"
            ]
          },
          "metadata": {
            "tags": []
          },
          "execution_count": 43
        },
        {
          "output_type": "display_data",
          "data": {
            "image/png": "[encoded data removed]",
            "text/plain": [
              "<Figure size 432x288 with 1 Axes>"
            ]
          },
          "metadata": {
            "tags": []
          }
        }
      ]
    }
  ]
}